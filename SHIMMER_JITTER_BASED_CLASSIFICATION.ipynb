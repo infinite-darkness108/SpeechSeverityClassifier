{
  "cells": [
    {
      "cell_type": "markdown",
      "metadata": {
        "id": "view-in-github",
        "colab_type": "text"
      },
      "source": [
        "<a href=\"https://colab.research.google.com/github/infinite-darkness108/SpeechSeverityClassifier/blob/main/SHIMMER_JITTER_BASED_CLASSIFICATION.ipynb\" target=\"_parent\"><img src=\"https://colab.research.google.com/assets/colab-badge.svg\" alt=\"Open In Colab\"/></a>"
      ]
    },
    {
      "cell_type": "code",
      "execution_count": null,
      "metadata": {
        "id": "RiXqjfhj5-O0",
        "colab": {
          "base_uri": "https://localhost:8080/"
        },
        "outputId": "39327e5a-a523-4b5c-9b5b-fc2ff7ccc992"
      },
      "outputs": [
        {
          "output_type": "stream",
          "name": "stdout",
          "text": [
            "Mounted at /content/drive\n"
          ]
        }
      ],
      "source": [
        "from google.colab import drive\n",
        "drive.mount('/content/drive')\n",
        "\n",
        "import pandas\n",
        "from keras.models import Sequential,model_from_json\n",
        "from keras.layers import Dense\n",
        "from keras.wrappers.scikit_learn import KerasClassifier\n",
        "from keras.utils import np_utils\n",
        "\n",
        "from sklearn.model_selection import cross_val_score\n",
        "from sklearn.model_selection import KFold\n",
        "from sklearn.preprocessing import LabelEncoder\n",
        "from sklearn.pipeline import Pipeline\n",
        "\n",
        "import matplotlib.pyplot as plt\n",
        "import numpy\n",
        "from sklearn import metrics"
      ]
    },
    {
      "cell_type": "code",
      "execution_count": null,
      "metadata": {
        "id": "U-y6-fGm9T6f",
        "colab": {
          "base_uri": "https://localhost:8080/",
          "height": 488
        },
        "outputId": "39abbb75-c050-45f8-dbec-35e28e737701"
      },
      "outputs": [
        {
          "output_type": "execute_result",
          "data": {
            "text/plain": [
              "                                                voiceID  duration    meanF0Hz  \\\n",
              "0     /content/gdrive/MyDrive/TDSC/akshay/data/MAK11...  1.342500  237.676029   \n",
              "1     /content/gdrive/MyDrive/TDSC/akshay/data/MAK28...  3.692687  232.306400   \n",
              "2     /content/gdrive/MyDrive/TDSC/akshay/data/MAK30...  3.923563  231.586592   \n",
              "3     /content/gdrive/MyDrive/TDSC/akshay/data/MAK12...  0.881625  219.410872   \n",
              "4     /content/gdrive/MyDrive/TDSC/akshay/data/MAK14...  0.997625  225.065675   \n",
              "...                                                 ...       ...         ...   \n",
              "6220  /content/drive/MyDrive/TDSC/moderate/ambika/FA...  2.688813  199.366598   \n",
              "6221  /content/drive/MyDrive/TDSC/moderate/ambika/FA...  2.145938  222.136320   \n",
              "6222  /content/drive/MyDrive/TDSC/moderate/ambika/FA...  2.867500  189.535449   \n",
              "6223  /content/drive/MyDrive/TDSC/moderate/ambika/FA...  1.000938  209.588239   \n",
              "6224  /content/drive/MyDrive/TDSC/moderate/ambika/FA...  2.190625  221.203174   \n",
              "\n",
              "      stdevF0Hz        HNR  localJitter  localShimmer classification  \n",
              "0     12.434711  17.823073     0.010778      0.112667           mild  \n",
              "1     15.120705  15.621474     0.006400      0.073167           mild  \n",
              "2     35.033114  14.609275     0.008013      0.069346           mild  \n",
              "3     11.323056  17.716161     0.014021      0.066084           mild  \n",
              "4      9.296925  18.677438     0.014705      0.061086           mild  \n",
              "...         ...        ...          ...           ...            ...  \n",
              "6220  54.951059  21.373374     0.009722      0.050681       moderate  \n",
              "6221  66.778666  24.632237     0.006219      0.041101       moderate  \n",
              "6222  58.221250  24.828079     0.008926      0.063490       moderate  \n",
              "6223  65.645378  19.670455     0.012413      0.072662       moderate  \n",
              "6224  64.597552  23.330113     0.007792      0.052601       moderate  \n",
              "\n",
              "[6225 rows x 8 columns]"
            ],
            "text/html": [
              "\n",
              "  <div id=\"df-748492b3-4dda-4924-a8e1-ace92de742d0\">\n",
              "    <div class=\"colab-df-container\">\n",
              "      <div>\n",
              "<style scoped>\n",
              "    .dataframe tbody tr th:only-of-type {\n",
              "        vertical-align: middle;\n",
              "    }\n",
              "\n",
              "    .dataframe tbody tr th {\n",
              "        vertical-align: top;\n",
              "    }\n",
              "\n",
              "    .dataframe thead th {\n",
              "        text-align: right;\n",
              "    }\n",
              "</style>\n",
              "<table border=\"1\" class=\"dataframe\">\n",
              "  <thead>\n",
              "    <tr style=\"text-align: right;\">\n",
              "      <th></th>\n",
              "      <th>voiceID</th>\n",
              "      <th>duration</th>\n",
              "      <th>meanF0Hz</th>\n",
              "      <th>stdevF0Hz</th>\n",
              "      <th>HNR</th>\n",
              "      <th>localJitter</th>\n",
              "      <th>localShimmer</th>\n",
              "      <th>classification</th>\n",
              "    </tr>\n",
              "  </thead>\n",
              "  <tbody>\n",
              "    <tr>\n",
              "      <th>0</th>\n",
              "      <td>/content/gdrive/MyDrive/TDSC/akshay/data/MAK11...</td>\n",
              "      <td>1.342500</td>\n",
              "      <td>237.676029</td>\n",
              "      <td>12.434711</td>\n",
              "      <td>17.823073</td>\n",
              "      <td>0.010778</td>\n",
              "      <td>0.112667</td>\n",
              "      <td>mild</td>\n",
              "    </tr>\n",
              "    <tr>\n",
              "      <th>1</th>\n",
              "      <td>/content/gdrive/MyDrive/TDSC/akshay/data/MAK28...</td>\n",
              "      <td>3.692687</td>\n",
              "      <td>232.306400</td>\n",
              "      <td>15.120705</td>\n",
              "      <td>15.621474</td>\n",
              "      <td>0.006400</td>\n",
              "      <td>0.073167</td>\n",
              "      <td>mild</td>\n",
              "    </tr>\n",
              "    <tr>\n",
              "      <th>2</th>\n",
              "      <td>/content/gdrive/MyDrive/TDSC/akshay/data/MAK30...</td>\n",
              "      <td>3.923563</td>\n",
              "      <td>231.586592</td>\n",
              "      <td>35.033114</td>\n",
              "      <td>14.609275</td>\n",
              "      <td>0.008013</td>\n",
              "      <td>0.069346</td>\n",
              "      <td>mild</td>\n",
              "    </tr>\n",
              "    <tr>\n",
              "      <th>3</th>\n",
              "      <td>/content/gdrive/MyDrive/TDSC/akshay/data/MAK12...</td>\n",
              "      <td>0.881625</td>\n",
              "      <td>219.410872</td>\n",
              "      <td>11.323056</td>\n",
              "      <td>17.716161</td>\n",
              "      <td>0.014021</td>\n",
              "      <td>0.066084</td>\n",
              "      <td>mild</td>\n",
              "    </tr>\n",
              "    <tr>\n",
              "      <th>4</th>\n",
              "      <td>/content/gdrive/MyDrive/TDSC/akshay/data/MAK14...</td>\n",
              "      <td>0.997625</td>\n",
              "      <td>225.065675</td>\n",
              "      <td>9.296925</td>\n",
              "      <td>18.677438</td>\n",
              "      <td>0.014705</td>\n",
              "      <td>0.061086</td>\n",
              "      <td>mild</td>\n",
              "    </tr>\n",
              "    <tr>\n",
              "      <th>...</th>\n",
              "      <td>...</td>\n",
              "      <td>...</td>\n",
              "      <td>...</td>\n",
              "      <td>...</td>\n",
              "      <td>...</td>\n",
              "      <td>...</td>\n",
              "      <td>...</td>\n",
              "      <td>...</td>\n",
              "    </tr>\n",
              "    <tr>\n",
              "      <th>6220</th>\n",
              "      <td>/content/drive/MyDrive/TDSC/moderate/ambika/FA...</td>\n",
              "      <td>2.688813</td>\n",
              "      <td>199.366598</td>\n",
              "      <td>54.951059</td>\n",
              "      <td>21.373374</td>\n",
              "      <td>0.009722</td>\n",
              "      <td>0.050681</td>\n",
              "      <td>moderate</td>\n",
              "    </tr>\n",
              "    <tr>\n",
              "      <th>6221</th>\n",
              "      <td>/content/drive/MyDrive/TDSC/moderate/ambika/FA...</td>\n",
              "      <td>2.145938</td>\n",
              "      <td>222.136320</td>\n",
              "      <td>66.778666</td>\n",
              "      <td>24.632237</td>\n",
              "      <td>0.006219</td>\n",
              "      <td>0.041101</td>\n",
              "      <td>moderate</td>\n",
              "    </tr>\n",
              "    <tr>\n",
              "      <th>6222</th>\n",
              "      <td>/content/drive/MyDrive/TDSC/moderate/ambika/FA...</td>\n",
              "      <td>2.867500</td>\n",
              "      <td>189.535449</td>\n",
              "      <td>58.221250</td>\n",
              "      <td>24.828079</td>\n",
              "      <td>0.008926</td>\n",
              "      <td>0.063490</td>\n",
              "      <td>moderate</td>\n",
              "    </tr>\n",
              "    <tr>\n",
              "      <th>6223</th>\n",
              "      <td>/content/drive/MyDrive/TDSC/moderate/ambika/FA...</td>\n",
              "      <td>1.000938</td>\n",
              "      <td>209.588239</td>\n",
              "      <td>65.645378</td>\n",
              "      <td>19.670455</td>\n",
              "      <td>0.012413</td>\n",
              "      <td>0.072662</td>\n",
              "      <td>moderate</td>\n",
              "    </tr>\n",
              "    <tr>\n",
              "      <th>6224</th>\n",
              "      <td>/content/drive/MyDrive/TDSC/moderate/ambika/FA...</td>\n",
              "      <td>2.190625</td>\n",
              "      <td>221.203174</td>\n",
              "      <td>64.597552</td>\n",
              "      <td>23.330113</td>\n",
              "      <td>0.007792</td>\n",
              "      <td>0.052601</td>\n",
              "      <td>moderate</td>\n",
              "    </tr>\n",
              "  </tbody>\n",
              "</table>\n",
              "<p>6225 rows × 8 columns</p>\n",
              "</div>\n",
              "      <button class=\"colab-df-convert\" onclick=\"convertToInteractive('df-748492b3-4dda-4924-a8e1-ace92de742d0')\"\n",
              "              title=\"Convert this dataframe to an interactive table.\"\n",
              "              style=\"display:none;\">\n",
              "        \n",
              "  <svg xmlns=\"http://www.w3.org/2000/svg\" height=\"24px\"viewBox=\"0 0 24 24\"\n",
              "       width=\"24px\">\n",
              "    <path d=\"M0 0h24v24H0V0z\" fill=\"none\"/>\n",
              "    <path d=\"M18.56 5.44l.94 2.06.94-2.06 2.06-.94-2.06-.94-.94-2.06-.94 2.06-2.06.94zm-11 1L8.5 8.5l.94-2.06 2.06-.94-2.06-.94L8.5 2.5l-.94 2.06-2.06.94zm10 10l.94 2.06.94-2.06 2.06-.94-2.06-.94-.94-2.06-.94 2.06-2.06.94z\"/><path d=\"M17.41 7.96l-1.37-1.37c-.4-.4-.92-.59-1.43-.59-.52 0-1.04.2-1.43.59L10.3 9.45l-7.72 7.72c-.78.78-.78 2.05 0 2.83L4 21.41c.39.39.9.59 1.41.59.51 0 1.02-.2 1.41-.59l7.78-7.78 2.81-2.81c.8-.78.8-2.07 0-2.86zM5.41 20L4 18.59l7.72-7.72 1.47 1.35L5.41 20z\"/>\n",
              "  </svg>\n",
              "      </button>\n",
              "      \n",
              "  <style>\n",
              "    .colab-df-container {\n",
              "      display:flex;\n",
              "      flex-wrap:wrap;\n",
              "      gap: 12px;\n",
              "    }\n",
              "\n",
              "    .colab-df-convert {\n",
              "      background-color: #E8F0FE;\n",
              "      border: none;\n",
              "      border-radius: 50%;\n",
              "      cursor: pointer;\n",
              "      display: none;\n",
              "      fill: #1967D2;\n",
              "      height: 32px;\n",
              "      padding: 0 0 0 0;\n",
              "      width: 32px;\n",
              "    }\n",
              "\n",
              "    .colab-df-convert:hover {\n",
              "      background-color: #E2EBFA;\n",
              "      box-shadow: 0px 1px 2px rgba(60, 64, 67, 0.3), 0px 1px 3px 1px rgba(60, 64, 67, 0.15);\n",
              "      fill: #174EA6;\n",
              "    }\n",
              "\n",
              "    [theme=dark] .colab-df-convert {\n",
              "      background-color: #3B4455;\n",
              "      fill: #D2E3FC;\n",
              "    }\n",
              "\n",
              "    [theme=dark] .colab-df-convert:hover {\n",
              "      background-color: #434B5C;\n",
              "      box-shadow: 0px 1px 3px 1px rgba(0, 0, 0, 0.15);\n",
              "      filter: drop-shadow(0px 1px 2px rgba(0, 0, 0, 0.3));\n",
              "      fill: #FFFFFF;\n",
              "    }\n",
              "  </style>\n",
              "\n",
              "      <script>\n",
              "        const buttonEl =\n",
              "          document.querySelector('#df-748492b3-4dda-4924-a8e1-ace92de742d0 button.colab-df-convert');\n",
              "        buttonEl.style.display =\n",
              "          google.colab.kernel.accessAllowed ? 'block' : 'none';\n",
              "\n",
              "        async function convertToInteractive(key) {\n",
              "          const element = document.querySelector('#df-748492b3-4dda-4924-a8e1-ace92de742d0');\n",
              "          const dataTable =\n",
              "            await google.colab.kernel.invokeFunction('convertToInteractive',\n",
              "                                                     [key], {});\n",
              "          if (!dataTable) return;\n",
              "\n",
              "          const docLinkHtml = 'Like what you see? Visit the ' +\n",
              "            '<a target=\"_blank\" href=https://colab.research.google.com/notebooks/data_table.ipynb>data table notebook</a>'\n",
              "            + ' to learn more about interactive tables.';\n",
              "          element.innerHTML = '';\n",
              "          dataTable['output_type'] = 'display_data';\n",
              "          await google.colab.output.renderOutput(dataTable, element);\n",
              "          const docLink = document.createElement('div');\n",
              "          docLink.innerHTML = docLinkHtml;\n",
              "          element.appendChild(docLink);\n",
              "        }\n",
              "      </script>\n",
              "    </div>\n",
              "  </div>\n",
              "  "
            ]
          },
          "metadata": {},
          "execution_count": 26
        }
      ],
      "source": [
        "dataframe=pandas.read_excel('/content/Data_Stutter.xlsx')\n",
        "dataframe"
      ]
    },
    {
      "cell_type": "code",
      "source": [
        "dataset=dataframe.values\n",
        "# count of each class\n",
        "mild=0\n",
        "moderate=0\n",
        "severe=0\n",
        "for i in range(len(dataset)):\n",
        "    if dataset [i][7]=='mild': mild=mild+1\n",
        "    elif dataset[i][7]=='moderate': moderate=moderate+1\n",
        "    else: severe= severe+1\n",
        "\n",
        "print(mild)\n",
        "print(moderate)\n",
        "print(severe)"
      ],
      "metadata": {
        "colab": {
          "base_uri": "https://localhost:8080/"
        },
        "id": "mXU77tmlDMez",
        "outputId": "9145dc0f-a175-4cd0-dc84-844229d03082"
      },
      "execution_count": null,
      "outputs": [
        {
          "output_type": "stream",
          "name": "stdout",
          "text": [
            "1825\n",
            "3306\n",
            "1094\n"
          ]
        }
      ]
    },
    {
      "cell_type": "code",
      "source": [
        "count=4001\n",
        "for i in range(len(dataset)):\n",
        "  if dataset[i][7]=='mild' and count<4001:\n",
        "     dataframe.loc[len(dataframe.index)] = dataset[i]\n",
        "     count+=1\n",
        "print(count)\n",
        "\n",
        "count=4001\n",
        "for i in range(len(dataset)):\n",
        "  if dataset[i][7]=='moderate' and count<4001:\n",
        "     dataframe.loc[len(dataframe.index)] = dataset[i]\n",
        "     count+=1\n",
        "print(count)\n",
        "\n",
        "count=3282\n",
        "for i in range(len(dataset)):\n",
        "  if dataset[i][7]=='severe' and count<4001:\n",
        "     dataframe.loc[len(dataframe.index)] = dataset[i]\n",
        "     count+=1\n",
        "print(count)\n",
        "\n",
        "# ran this code some 3 times to make training data equal for all classes"
      ],
      "metadata": {
        "colab": {
          "base_uri": "https://localhost:8080/"
        },
        "id": "8k1ill-JEpz5",
        "outputId": "71ce33c6-2342-487a-e852-1637cc318951"
      },
      "execution_count": null,
      "outputs": [
        {
          "output_type": "stream",
          "name": "stdout",
          "text": [
            "4001\n",
            "4001\n",
            "4001\n"
          ]
        }
      ]
    },
    {
      "cell_type": "code",
      "execution_count": null,
      "metadata": {
        "id": "XbrGrZVeKzMq"
      },
      "outputs": [],
      "source": [
        "dataset=dataframe.values\n",
        "\n",
        "X=dataset[:,1:7].astype(float)\n",
        "Y=dataset[:,7]\n",
        "\n",
        "encoder=LabelEncoder()\n",
        "encoder.fit(Y)\n",
        "encoded_Y=encoder.transform(Y)\n",
        "dummy_Y=np_utils.to_categorical(encoded_Y)"
      ]
    },
    {
      "cell_type": "code",
      "execution_count": null,
      "metadata": {
        "id": "r9NcyROnLkMS",
        "colab": {
          "base_uri": "https://localhost:8080/",
          "height": 320
        },
        "outputId": "019015c7-b650-4917-c067-40c93d13238d"
      },
      "outputs": [
        {
          "output_type": "stream",
          "name": "stdout",
          "text": [
            "Loaded model from disk\n",
            "accuracy: 65.79%\n",
            " \n",
            " \n",
            "376/376 [==============================] - 1s 1ms/step\n"
          ]
        },
        {
          "output_type": "display_data",
          "data": {
            "text/plain": [
              "<Figure size 432x288 with 2 Axes>"
            ],
            "image/png": "[encoded data removed]"
          },
          "metadata": {
            "needs_background": "light"
          }
        }
      ],
      "source": [
        "#model when trained with unequal data\n",
        "\n",
        "json_file = open(\"/content/drive/MyDrive/Quality_data/model.json\", 'r')\n",
        "loaded_model_json = json_file.read()\n",
        "json_file.close()\n",
        "loaded_model = model_from_json(loaded_model_json)\n",
        "# load weights into new model\n",
        "loaded_model.load_weights(\"/content/drive/MyDrive/Quality_data/model.h5\")\n",
        "print(\"Loaded model from disk\")\n",
        "\n",
        "# evaluate loaded model on test data\n",
        "loaded_model.compile(loss='categorical_crossentropy',optimizer='adam', metrics=['accuracy'])\n",
        "\n",
        "score = loaded_model.evaluate(X,dummy_Y,verbose=0)\n",
        "print(\"%s: %.2f%%\" % (loaded_model.metrics_names[1], score[1]*100))\n",
        "\n",
        "print(\" \")\n",
        "print(\" \")\n",
        "\n",
        "ynew = loaded_model.predict(X)\n",
        "\n",
        "for i in range(len(ynew)):\n",
        "   for j in range(2):\n",
        "       ynew[i][j]=round(ynew[i][j])\n",
        "\n",
        "Y_predicted=[]\n",
        "for i in range(len(ynew)):\n",
        "   if ynew[i][0]==1:\n",
        "       Y_predicted.append('mild')\n",
        "   elif ynew[i][1]==1:\n",
        "       Y_predicted.append('moderate')\n",
        "   else:\n",
        "       Y_predicted.append('severe')\n",
        "\n",
        "Actual=[]\n",
        "for i in range(len(dummy_Y)):\n",
        "   if dummy_Y[i][0]==1:\n",
        "       Actual.append('mild')\n",
        "   elif dummy_Y[i][1]==1:\n",
        "       Actual.append('moderate')\n",
        "   else:\n",
        "       Actual.append('severe')\n",
        "\n",
        "confusion_matrix = metrics.confusion_matrix(Actual,Y_predicted)\n",
        "\n",
        "cm_display = metrics.ConfusionMatrixDisplay(confusion_matrix = confusion_matrix, display_labels = ['mild','moderate','severe'])\n",
        "\n",
        "cm_display.plot()\n",
        "plt.show()"
      ]
    },
    {
      "cell_type": "code",
      "source": [
        "model=Sequential()\n",
        "model.add(Dense(8,input_dim=6,activation='relu'))\n",
        "model.add(Dense(26,activation='relu'))\n",
        "model.add(Dense(26,activation='relu'))\n",
        "model.add(Dense(3,activation='softmax'))\n",
        "model.compile(loss='categorical_crossentropy',optimizer='adam', metrics=['accuracy'])\n",
        "model.fit(X, dummy_Y, epochs=1000, batch_size=5, verbose=0)\n",
        "\n",
        "model_json = model.to_json()\n",
        "with open(\"/content/drive/MyDrive/Quality_data/model_eq.json\", \"w\") as json_file:\n",
        "    json_file.write(model_json)\n",
        "# serialize weights to HDF5\n",
        "model.save_weights(\"/content/drive/MyDrive/Quality_data/model_eq.h5\")\n",
        "print(\"Saved model to disk\")"
      ],
      "metadata": {
        "id": "vusCfamlYB9h",
        "colab": {
          "base_uri": "https://localhost:8080/"
        },
        "outputId": "610c4498-3d29-40b9-eb32-359173e3c3ec"
      },
      "execution_count": null,
      "outputs": [
        {
          "output_type": "stream",
          "name": "stdout",
          "text": [
            "Saved model to disk\n"
          ]
        }
      ]
    },
    {
      "cell_type": "code",
      "source": [
        "#model when trained with unequal data\n",
        "\n",
        "json_file = open(\"/content/drive/MyDrive/Quality_data/model_eq.json\", 'r')\n",
        "loaded_model_json = json_file.read()\n",
        "json_file.close()\n",
        "loaded_model = model_from_json(loaded_model_json)\n",
        "# load weights into new model\n",
        "loaded_model.load_weights(\"/content/drive/MyDrive/Quality_data/model_eq.h5\")\n",
        "print(\"Loaded model from disk\")\n",
        "\n",
        "# evaluate loaded model on test data\n",
        "loaded_model.compile(loss='categorical_crossentropy',optimizer='adam', metrics=['accuracy'])\n",
        "\n",
        "score = loaded_model.evaluate(X,dummy_Y,verbose=0)\n",
        "print(\"%s: %.2f%%\" % (loaded_model.metrics_names[1], score[1]*100))\n",
        "\n",
        "print(\" \")\n",
        "print(\" \")\n",
        "\n",
        "ynew = loaded_model.predict(X)"
      ],
      "metadata": {
        "colab": {
          "base_uri": "https://localhost:8080/"
        },
        "id": "6vtCXbIWcnQR",
        "outputId": "efc0ad2d-b4c2-45a5-efb8-47781335bfda"
      },
      "execution_count": null,
      "outputs": [
        {
          "output_type": "stream",
          "name": "stdout",
          "text": [
            "Loaded model from disk\n",
            "accuracy: 75.41%\n",
            " \n",
            " \n",
            "376/376 [==============================] - 1s 1ms/step\n"
          ]
        }
      ]
    },
    {
      "cell_type": "code",
      "source": [
        "\n",
        "for i in range(len(ynew)):\n",
        "   for j in range(2):\n",
        "       ynew[i][j]=round(ynew[i][j])\n",
        "\n",
        "Y_predicted=[]\n",
        "for i in range(len(ynew)):\n",
        "   if ynew[i][0]==1:\n",
        "       Y_predicted.append('mild')\n",
        "   elif ynew[i][1]==1:\n",
        "       Y_predicted.append('moderate')\n",
        "   else:\n",
        "       Y_predicted.append('severe')\n",
        "\n",
        "Actual=[]\n",
        "for i in range(len(dummy_Y)):\n",
        "   if dummy_Y[i][0]==1:\n",
        "       Actual.append('mild')\n",
        "   elif dummy_Y[i][1]==1:\n",
        "       Actual.append('moderate')\n",
        "   else:\n",
        "       Actual.append('severe')\n",
        "\n",
        "confusion_matrix = metrics.confusion_matrix(Actual,Y_predicted)\n",
        "\n",
        "cm_display = metrics.ConfusionMatrixDisplay(confusion_matrix = confusion_matrix, display_labels = ['mild','moderate','severe'])\n",
        "\n",
        "cm_display.plot()\n",
        "plt.show()"
      ],
      "metadata": {
        "colab": {
          "base_uri": "https://localhost:8080/",
          "height": 320
        },
        "id": "GJ5oFBNUb-P6",
        "outputId": "8e2d26fa-0ed4-4857-fa35-21256badabf0"
      },
      "execution_count": null,
      "outputs": [
        {
          "output_type": "stream",
          "name": "stdout",
          "text": [
            "Loaded model from disk\n",
            "accuracy: 75.41%\n",
            " \n",
            " \n",
            "376/376 [==============================] - 1s 1ms/step\n"
          ]
        },
        {
          "output_type": "display_data",
          "data": {
            "text/plain": [
              "<Figure size 432x288 with 2 Axes>"
            ],
            "image/png": "[encoded data removed]"
          },
          "metadata": {
            "needs_background": "light"
          }
        }
      ]
    },
    {
      "cell_type": "code",
      "source": [
        "json_file = open(\"/content/drive/MyDrive/Quality_data/model_mild_moderate.json\", 'r')\n",
        "loaded_model_json = json_file.read()\n",
        "json_file.close()\n",
        "loaded_model = model_from_json(loaded_model_json)\n",
        "loaded_model.load_weights(\"/content/drive/MyDrive/Quality_data/model_mild_moderate.h5\")\n",
        "print(\"Loaded model from drive\")\n",
        "loaded_model.compile(loss='categorical_crossentropy',optimizer='adam', metrics=['accuracy'])\n",
        "y1new=loaded_model.predict(X)\n",
        "\n",
        "json_file = open(\"/content/drive/MyDrive/Quality_data/model_moderate_severe.json\", 'r')\n",
        "loaded_model_json = json_file.read()\n",
        "json_file.close()\n",
        "loaded_model = model_from_json(loaded_model_json)\n",
        "loaded_model.load_weights(\"/content/drive/MyDrive/Quality_data/model_moderate_severe.h5\")\n",
        "print(\"Loaded model from drive\")\n",
        "loaded_model.compile(loss='categorical_crossentropy',optimizer='adam', metrics=['accuracy'])\n",
        "y2new=loaded_model.predict(X)\n",
        "\n",
        "json_file = open(\"/content/drive/MyDrive/Quality_data/model_mild_severe.json\", 'r')\n",
        "loaded_model_json = json_file.read()\n",
        "json_file.close()\n",
        "loaded_model = model_from_json(loaded_model_json)\n",
        "loaded_model.load_weights(\"/content/drive/MyDrive/Quality_data/model_mild_severe.h5\")\n",
        "print(\"Loaded model from drive\")\n",
        "loaded_model.compile(loss='categorical_crossentropy',optimizer='adam', metrics=['accuracy'])\n",
        "y3new=loaded_model.predict(X)\n",
        "\n",
        "\n",
        "for i in range(len(ynew)):\n",
        "\n",
        "  if ynew[i][0]>0.45 and ynew[i][1]>0.45:\n",
        "    if y1new[i][0]>y1new[i][1]:\n",
        "      ynew[i][0]=1\n",
        "      ynew[i][1]=0\n",
        "    else:\n",
        "      ynew[i][0]=0\n",
        "      ynew[i][1]=1\n",
        "\n",
        "  if ynew[i][1]>0.45 and ynew[i][2]>0.45:\n",
        "    if y2new[i][0]>y2new[i][1]:\n",
        "      ynew[i][1]=1\n",
        "      ynew[i][2]=0\n",
        "    else:\n",
        "      ynew[i][1]=0\n",
        "      ynew[i][2]=1      \n",
        "\n",
        "  if ynew[i][0]>0.45 and ynew[i][2]>0.45:\n",
        "    if y3new[i][0]>y3new[i][1]:\n",
        "      ynew[i][0]=1\n",
        "      ynew[i][2]=0\n",
        "    else:\n",
        "      ynew[i][0]=0\n",
        "      ynew[i][2]=1      \n",
        "\n",
        "for i in range(len(ynew)):\n",
        "   for j in range(2):\n",
        "       ynew[i][j]=round(ynew[i][j])\n",
        "\n",
        "Y_predicted=[]\n",
        "for i in range(len(ynew)):\n",
        "   if ynew[i][0]==1:\n",
        "       Y_predicted.append('mild')\n",
        "   elif ynew[i][1]==1:\n",
        "       Y_predicted.append('moderate')\n",
        "   else:\n",
        "       Y_predicted.append('severe')\n",
        "\n",
        "Actual=[]\n",
        "for i in range(len(dummy_Y)):\n",
        "   if dummy_Y[i][0]==1:\n",
        "       Actual.append('mild')\n",
        "   elif dummy_Y[i][1]==1:\n",
        "       Actual.append('moderate')\n",
        "   else:\n",
        "       Actual.append('severe')\n",
        "\n",
        "confusion_matrix = metrics.confusion_matrix(Actual,Y_predicted)\n",
        "\n",
        "cm_display = metrics.ConfusionMatrixDisplay(confusion_matrix = confusion_matrix, display_labels = ['mild','moderate','severe'])\n",
        "\n",
        "cm_display.plot()\n",
        "plt.show()"
      ],
      "metadata": {
        "id": "EoPs_S9fYBg7",
        "colab": {
          "base_uri": "https://localhost:8080/",
          "height": 338
        },
        "outputId": "84c4753f-f2af-44e2-a18c-891e495ee36a"
      },
      "execution_count": null,
      "outputs": [
        {
          "output_type": "stream",
          "name": "stdout",
          "text": [
            "Loaded model from drive\n",
            "376/376 [==============================] - 1s 1ms/step\n",
            "Loaded model from drive\n",
            "376/376 [==============================] - 1s 1ms/step\n",
            "Loaded model from drive\n",
            "376/376 [==============================] - 1s 1ms/step\n"
          ]
        },
        {
          "output_type": "display_data",
          "data": {
            "text/plain": [
              "<Figure size 432x288 with 2 Axes>"
            ],
            "image/png": "[encoded data removed]"
          },
          "metadata": {
            "needs_background": "light"
          }
        }
      ]
    },
    {
      "cell_type": "code",
      "source": [],
      "metadata": {
        "id": "C8Il3QWPYBpx"
      },
      "execution_count": null,
      "outputs": []
    },
    {
      "cell_type": "code",
      "source": [],
      "metadata": {
        "id": "QRFdmf2rSc-S"
      },
      "execution_count": null,
      "outputs": []
    },
    {
      "cell_type": "code",
      "source": [],
      "metadata": {
        "id": "muYtYOMPSdC1"
      },
      "execution_count": null,
      "outputs": []
    },
    {
      "cell_type": "code",
      "source": [],
      "metadata": {
        "id": "P9l3h6YZYBtz"
      },
      "execution_count": null,
      "outputs": []
    },
    {
      "cell_type": "code",
      "source": [],
      "metadata": {
        "id": "VHAVdCD-YBxR"
      },
      "execution_count": null,
      "outputs": []
    },
    {
      "cell_type": "code",
      "source": [],
      "metadata": {
        "id": "vJAgJ8bmYB0C"
      },
      "execution_count": null,
      "outputs": []
    },
    {
      "cell_type": "code",
      "source": [],
      "metadata": {
        "id": "h_NAPdz1YB20"
      },
      "execution_count": null,
      "outputs": []
    },
    {
      "cell_type": "code",
      "source": [],
      "metadata": {
        "id": "Llux_-qjYB6n"
      },
      "execution_count": null,
      "outputs": []
    },
    {
      "cell_type": "code",
      "source": [
        "\n",
        "dataframe = dataframe.drop(6225)\n",
        "dataframe"
      ],
      "metadata": {
        "colab": {
          "base_uri": "https://localhost:8080/",
          "height": 488
        },
        "id": "zORXA6kPFNtF",
        "outputId": "6c66d240-ae6b-4281-edad-b4752af8806a"
      },
      "execution_count": null,
      "outputs": [
        {
          "output_type": "execute_result",
          "data": {
            "text/plain": [
              "                                                voiceID  duration    meanF0Hz  \\\n",
              "0     /content/gdrive/MyDrive/TDSC/akshay/data/MAK11...  1.342500  237.676029   \n",
              "1     /content/gdrive/MyDrive/TDSC/akshay/data/MAK28...  3.692687  232.306400   \n",
              "2     /content/gdrive/MyDrive/TDSC/akshay/data/MAK30...  3.923563  231.586592   \n",
              "3     /content/gdrive/MyDrive/TDSC/akshay/data/MAK12...  0.881625  219.410872   \n",
              "4     /content/gdrive/MyDrive/TDSC/akshay/data/MAK14...  0.997625  225.065675   \n",
              "...                                                 ...       ...         ...   \n",
              "6220  /content/drive/MyDrive/TDSC/moderate/ambika/FA...  2.688813  199.366598   \n",
              "6221  /content/drive/MyDrive/TDSC/moderate/ambika/FA...  2.145938  222.136320   \n",
              "6222  /content/drive/MyDrive/TDSC/moderate/ambika/FA...  2.867500  189.535449   \n",
              "6223  /content/drive/MyDrive/TDSC/moderate/ambika/FA...  1.000938  209.588239   \n",
              "6224  /content/drive/MyDrive/TDSC/moderate/ambika/FA...  2.190625  221.203174   \n",
              "\n",
              "      stdevF0Hz        HNR  localJitter  localShimmer classification  \n",
              "0     12.434711  17.823073     0.010778      0.112667           mild  \n",
              "1     15.120705  15.621474     0.006400      0.073167           mild  \n",
              "2     35.033114  14.609275     0.008013      0.069346           mild  \n",
              "3     11.323056  17.716161     0.014021      0.066084           mild  \n",
              "4      9.296925  18.677438     0.014705      0.061086           mild  \n",
              "...         ...        ...          ...           ...            ...  \n",
              "6220  54.951059  21.373374     0.009722      0.050681       moderate  \n",
              "6221  66.778666  24.632237     0.006219      0.041101       moderate  \n",
              "6222  58.221250  24.828079     0.008926      0.063490       moderate  \n",
              "6223  65.645378  19.670455     0.012413      0.072662       moderate  \n",
              "6224  64.597552  23.330113     0.007792      0.052601       moderate  \n",
              "\n",
              "[6225 rows x 8 columns]"
            ],
            "text/html": [
              "\n",
              "  <div id=\"df-b0e16af3-fdae-4e20-9de6-28c9cf7edbd6\">\n",
              "    <div class=\"colab-df-container\">\n",
              "      <div>\n",
              "<style scoped>\n",
              "    .dataframe tbody tr th:only-of-type {\n",
              "        vertical-align: middle;\n",
              "    }\n",
              "\n",
              "    .dataframe tbody tr th {\n",
              "        vertical-align: top;\n",
              "    }\n",
              "\n",
              "    .dataframe thead th {\n",
              "        text-align: right;\n",
              "    }\n",
              "</style>\n",
              "<table border=\"1\" class=\"dataframe\">\n",
              "  <thead>\n",
              "    <tr style=\"text-align: right;\">\n",
              "      <th></th>\n",
              "      <th>voiceID</th>\n",
              "      <th>duration</th>\n",
              "      <th>meanF0Hz</th>\n",
              "      <th>stdevF0Hz</th>\n",
              "      <th>HNR</th>\n",
              "      <th>localJitter</th>\n",
              "      <th>localShimmer</th>\n",
              "      <th>classification</th>\n",
              "    </tr>\n",
              "  </thead>\n",
              "  <tbody>\n",
              "    <tr>\n",
              "      <th>0</th>\n",
              "      <td>/content/gdrive/MyDrive/TDSC/akshay/data/MAK11...</td>\n",
              "      <td>1.342500</td>\n",
              "      <td>237.676029</td>\n",
              "      <td>12.434711</td>\n",
              "      <td>17.823073</td>\n",
              "      <td>0.010778</td>\n",
              "      <td>0.112667</td>\n",
              "      <td>mild</td>\n",
              "    </tr>\n",
              "    <tr>\n",
              "      <th>1</th>\n",
              "      <td>/content/gdrive/MyDrive/TDSC/akshay/data/MAK28...</td>\n",
              "      <td>3.692687</td>\n",
              "      <td>232.306400</td>\n",
              "      <td>15.120705</td>\n",
              "      <td>15.621474</td>\n",
              "      <td>0.006400</td>\n",
              "      <td>0.073167</td>\n",
              "      <td>mild</td>\n",
              "    </tr>\n",
              "    <tr>\n",
              "      <th>2</th>\n",
              "      <td>/content/gdrive/MyDrive/TDSC/akshay/data/MAK30...</td>\n",
              "      <td>3.923563</td>\n",
              "      <td>231.586592</td>\n",
              "      <td>35.033114</td>\n",
              "      <td>14.609275</td>\n",
              "      <td>0.008013</td>\n",
              "      <td>0.069346</td>\n",
              "      <td>mild</td>\n",
              "    </tr>\n",
              "    <tr>\n",
              "      <th>3</th>\n",
              "      <td>/content/gdrive/MyDrive/TDSC/akshay/data/MAK12...</td>\n",
              "      <td>0.881625</td>\n",
              "      <td>219.410872</td>\n",
              "      <td>11.323056</td>\n",
              "      <td>17.716161</td>\n",
              "      <td>0.014021</td>\n",
              "      <td>0.066084</td>\n",
              "      <td>mild</td>\n",
              "    </tr>\n",
              "    <tr>\n",
              "      <th>4</th>\n",
              "      <td>/content/gdrive/MyDrive/TDSC/akshay/data/MAK14...</td>\n",
              "      <td>0.997625</td>\n",
              "      <td>225.065675</td>\n",
              "      <td>9.296925</td>\n",
              "      <td>18.677438</td>\n",
              "      <td>0.014705</td>\n",
              "      <td>0.061086</td>\n",
              "      <td>mild</td>\n",
              "    </tr>\n",
              "    <tr>\n",
              "      <th>...</th>\n",
              "      <td>...</td>\n",
              "      <td>...</td>\n",
              "      <td>...</td>\n",
              "      <td>...</td>\n",
              "      <td>...</td>\n",
              "      <td>...</td>\n",
              "      <td>...</td>\n",
              "      <td>...</td>\n",
              "    </tr>\n",
              "    <tr>\n",
              "      <th>6220</th>\n",
              "      <td>/content/drive/MyDrive/TDSC/moderate/ambika/FA...</td>\n",
              "      <td>2.688813</td>\n",
              "      <td>199.366598</td>\n",
              "      <td>54.951059</td>\n",
              "      <td>21.373374</td>\n",
              "      <td>0.009722</td>\n",
              "      <td>0.050681</td>\n",
              "      <td>moderate</td>\n",
              "    </tr>\n",
              "    <tr>\n",
              "      <th>6221</th>\n",
              "      <td>/content/drive/MyDrive/TDSC/moderate/ambika/FA...</td>\n",
              "      <td>2.145938</td>\n",
              "      <td>222.136320</td>\n",
              "      <td>66.778666</td>\n",
              "      <td>24.632237</td>\n",
              "      <td>0.006219</td>\n",
              "      <td>0.041101</td>\n",
              "      <td>moderate</td>\n",
              "    </tr>\n",
              "    <tr>\n",
              "      <th>6222</th>\n",
              "      <td>/content/drive/MyDrive/TDSC/moderate/ambika/FA...</td>\n",
              "      <td>2.867500</td>\n",
              "      <td>189.535449</td>\n",
              "      <td>58.221250</td>\n",
              "      <td>24.828079</td>\n",
              "      <td>0.008926</td>\n",
              "      <td>0.063490</td>\n",
              "      <td>moderate</td>\n",
              "    </tr>\n",
              "    <tr>\n",
              "      <th>6223</th>\n",
              "      <td>/content/drive/MyDrive/TDSC/moderate/ambika/FA...</td>\n",
              "      <td>1.000938</td>\n",
              "      <td>209.588239</td>\n",
              "      <td>65.645378</td>\n",
              "      <td>19.670455</td>\n",
              "      <td>0.012413</td>\n",
              "      <td>0.072662</td>\n",
              "      <td>moderate</td>\n",
              "    </tr>\n",
              "    <tr>\n",
              "      <th>6224</th>\n",
              "      <td>/content/drive/MyDrive/TDSC/moderate/ambika/FA...</td>\n",
              "      <td>2.190625</td>\n",
              "      <td>221.203174</td>\n",
              "      <td>64.597552</td>\n",
              "      <td>23.330113</td>\n",
              "      <td>0.007792</td>\n",
              "      <td>0.052601</td>\n",
              "      <td>moderate</td>\n",
              "    </tr>\n",
              "  </tbody>\n",
              "</table>\n",
              "<p>6225 rows × 8 columns</p>\n",
              "</div>\n",
              "      <button class=\"colab-df-convert\" onclick=\"convertToInteractive('df-b0e16af3-fdae-4e20-9de6-28c9cf7edbd6')\"\n",
              "              title=\"Convert this dataframe to an interactive table.\"\n",
              "              style=\"display:none;\">\n",
              "        \n",
              "  <svg xmlns=\"http://www.w3.org/2000/svg\" height=\"24px\"viewBox=\"0 0 24 24\"\n",
              "       width=\"24px\">\n",
              "    <path d=\"M0 0h24v24H0V0z\" fill=\"none\"/>\n",
              "    <path d=\"M18.56 5.44l.94 2.06.94-2.06 2.06-.94-2.06-.94-.94-2.06-.94 2.06-2.06.94zm-11 1L8.5 8.5l.94-2.06 2.06-.94-2.06-.94L8.5 2.5l-.94 2.06-2.06.94zm10 10l.94 2.06.94-2.06 2.06-.94-2.06-.94-.94-2.06-.94 2.06-2.06.94z\"/><path d=\"M17.41 7.96l-1.37-1.37c-.4-.4-.92-.59-1.43-.59-.52 0-1.04.2-1.43.59L10.3 9.45l-7.72 7.72c-.78.78-.78 2.05 0 2.83L4 21.41c.39.39.9.59 1.41.59.51 0 1.02-.2 1.41-.59l7.78-7.78 2.81-2.81c.8-.78.8-2.07 0-2.86zM5.41 20L4 18.59l7.72-7.72 1.47 1.35L5.41 20z\"/>\n",
              "  </svg>\n",
              "      </button>\n",
              "      \n",
              "  <style>\n",
              "    .colab-df-container {\n",
              "      display:flex;\n",
              "      flex-wrap:wrap;\n",
              "      gap: 12px;\n",
              "    }\n",
              "\n",
              "    .colab-df-convert {\n",
              "      background-color: #E8F0FE;\n",
              "      border: none;\n",
              "      border-radius: 50%;\n",
              "      cursor: pointer;\n",
              "      display: none;\n",
              "      fill: #1967D2;\n",
              "      height: 32px;\n",
              "      padding: 0 0 0 0;\n",
              "      width: 32px;\n",
              "    }\n",
              "\n",
              "    .colab-df-convert:hover {\n",
              "      background-color: #E2EBFA;\n",
              "      box-shadow: 0px 1px 2px rgba(60, 64, 67, 0.3), 0px 1px 3px 1px rgba(60, 64, 67, 0.15);\n",
              "      fill: #174EA6;\n",
              "    }\n",
              "\n",
              "    [theme=dark] .colab-df-convert {\n",
              "      background-color: #3B4455;\n",
              "      fill: #D2E3FC;\n",
              "    }\n",
              "\n",
              "    [theme=dark] .colab-df-convert:hover {\n",
              "      background-color: #434B5C;\n",
              "      box-shadow: 0px 1px 3px 1px rgba(0, 0, 0, 0.15);\n",
              "      filter: drop-shadow(0px 1px 2px rgba(0, 0, 0, 0.3));\n",
              "      fill: #FFFFFF;\n",
              "    }\n",
              "  </style>\n",
              "\n",
              "      <script>\n",
              "        const buttonEl =\n",
              "          document.querySelector('#df-b0e16af3-fdae-4e20-9de6-28c9cf7edbd6 button.colab-df-convert');\n",
              "        buttonEl.style.display =\n",
              "          google.colab.kernel.accessAllowed ? 'block' : 'none';\n",
              "\n",
              "        async function convertToInteractive(key) {\n",
              "          const element = document.querySelector('#df-b0e16af3-fdae-4e20-9de6-28c9cf7edbd6');\n",
              "          const dataTable =\n",
              "            await google.colab.kernel.invokeFunction('convertToInteractive',\n",
              "                                                     [key], {});\n",
              "          if (!dataTable) return;\n",
              "\n",
              "          const docLinkHtml = 'Like what you see? Visit the ' +\n",
              "            '<a target=\"_blank\" href=https://colab.research.google.com/notebooks/data_table.ipynb>data table notebook</a>'\n",
              "            + ' to learn more about interactive tables.';\n",
              "          element.innerHTML = '';\n",
              "          dataTable['output_type'] = 'display_data';\n",
              "          await google.colab.output.renderOutput(dataTable, element);\n",
              "          const docLink = document.createElement('div');\n",
              "          docLink.innerHTML = docLinkHtml;\n",
              "          element.appendChild(docLink);\n",
              "        }\n",
              "      </script>\n",
              "    </div>\n",
              "  </div>\n",
              "  "
            ]
          },
          "metadata": {},
          "execution_count": 18
        }
      ]
    },
    {
      "cell_type": "code",
      "execution_count": null,
      "metadata": {
        "id": "u3txpJ6GNcyv"
      },
      "outputs": [],
      "source": [
        "def baseline_model():\n",
        "   model=Sequential()\n",
        "   model.add(Dense(16,input_dim=6,activation='relu'))\n",
        "   model.add(Dense(200,activation='relu'))\n",
        "   model.add(Dense(200,activation='relu'))\n",
        "   model.add(Dense(64,activation='relu'))\n",
        "   model.add(Dense(3,activation='softmax'))\n",
        "   model.compile(loss='categorical_crossentropy',optimizer='adam', metrics=['accuracy'])\n",
        "   return model"
      ]
    },
    {
      "cell_type": "code",
      "execution_count": null,
      "metadata": {
        "id": "IuGMWDkEUbiu"
      },
      "outputs": [],
      "source": [
        "estimator = KerasClassifier(build_fn=baseline_model, epochs=2000, batch_size=5, verbose=0)\n",
        "kfold = KFold(n_splits=10,shuffle=True)\n",
        "results = cross_val_score(estimator, X, dummy_Y, cv=kfold)\n",
        "print(\"Baseline: %.2f%% (%.2f%%)\" % (results.mean()*100, results.std()*100))"
      ]
    },
    {
      "cell_type": "code",
      "source": [],
      "metadata": {
        "id": "x5LLxaC4YCAl"
      },
      "execution_count": null,
      "outputs": []
    },
    {
      "cell_type": "code",
      "execution_count": null,
      "metadata": {
        "id": "KrY4kmrkrc9F"
      },
      "outputs": [],
      "source": [
        "###### DATA ERROR MODEL EXPECTED 4 CLASSES INCLUDING 'NAN' FOR THERE WAS AN EMPTY ROW INBETWEEN THE DATAS OF CSV ######\n",
        "\n",
        "#32% accuracy for epochs=200, batch_size=5, verbose=0\n",
        "#model.add(Dense(8,input_dim=6,activation='relu'))\n",
        "#model.add(Dense(4,activation='softmax'))\n",
        "#model.compile(loss='categorical_crossentropy',optimizer='adam', metrics=['accuracy'])"
      ]
    },
    {
      "cell_type": "code",
      "execution_count": null,
      "metadata": {
        "id": "l7qoVlQMrdDa"
      },
      "outputs": [],
      "source": [
        "###### DATA ERROR MODEL EXPECTED 4 CLASSES INCLUDING 'NAN' FOR THERE WAS AN EMPTY ROW INBETWEEN THE DATAS OF CSV ######\n",
        "\n",
        "#32% accuracy for epochs=200, batch_size=5, verbose=0\n",
        "#model.add(Dense(8,input_dim=6,activation='relu'))\n",
        "#model.add(Dense(6,activation='relu'))\n",
        "#model.add(Dense(4,activation='softmax'))\n",
        "#model.compile(loss='categorical_crossentropy',optimizer='adam', metrics=['accuracy'])"
      ]
    },
    {
      "cell_type": "code",
      "execution_count": null,
      "metadata": {
        "id": "n8S0ucPBrdGz"
      },
      "outputs": [],
      "source": [
        "###### DATA ERROR MODEL EXPECTED 4 CLASSES INCLUDING 'NAN' FOR THERE WAS AN EMPTY ROW INBETWEEN THE DATAS OF CSV ######\n",
        "\n",
        "#32% accuracy for epochs=200, batch_size=5, verbose=0\n",
        "#model.add(Dense(8,input_dim=6,activation='relu'))\n",
        "#model.add(Dense(50,activation='relu'))\n",
        "#model.add(Dense(4,activation='softmax'))\n",
        "#model.compile(loss='categorical_crossentropy',optimizer='adam', metrics=['accuracy'])"
      ]
    },
    {
      "cell_type": "code",
      "execution_count": null,
      "metadata": {
        "id": "5qWfsNoDrdJq"
      },
      "outputs": [],
      "source": [
        "###### FULL TRAINING DATA EMPLOYED ########\n",
        "\n",
        "#74% accuracy for mild vs severe only/-\n",
        "#for epochs=200, batch_size=5, verbose=0\n",
        "#model.add(Dense(8,input_dim=6,activation='relu'))\n",
        "#model.add(Dense(20,activation='relu'))\n",
        "#model.add(Dense(2,activation='softmax'))\n",
        "#model.compile(loss='categorical_crossentropy',optimizer='adam', metrics=['accuracy'])"
      ]
    },
    {
      "cell_type": "code",
      "execution_count": null,
      "metadata": {
        "id": "sJSqZlJFrdMv"
      },
      "outputs": [],
      "source": [
        "###### FULL TRAINING DATA EMPLOYED ########\n",
        "\n",
        "#52% accuracy for epochs=200, batch_size=5, verbose=0\n",
        "#model.add(Dense(8,input_dim=6,activation='relu'))\n",
        "#model.add(Dense(3,activation='softmax'))\n",
        "#model.compile(loss='categorical_crossentropy',optimizer='adam', metrics=['accuracy'])"
      ]
    },
    {
      "cell_type": "code",
      "execution_count": null,
      "metadata": {
        "id": "hH7txYvirdPI"
      },
      "outputs": [],
      "source": [
        "###### FULL TRAINING DATA EMPLOYED AND ########\n",
        "\n",
        "#53% accuracy for epochs=200, batch_size=5, verbose=0\n",
        "#model.add(Dense(8,input_dim=6,activation='tanh'))\n",
        "#model.add(Dense(20, activation='tanh'))\n",
        "#model.add(Dense(3,activation='softmax'))\n",
        "#model.compile(loss='categorical_crossentropy',optimizer='adam', metrics=['accuracy'])"
      ]
    },
    {
      "cell_type": "code",
      "execution_count": null,
      "metadata": {
        "id": "776_DRI4LKUP"
      },
      "outputs": [],
      "source": [
        "###### FULL TRAINING DATA EMPLOYED ########\n",
        "\n",
        "#51% accuracy for epochs=10, batch_size=5, verbose=0\n",
        "#model.add(Dense(8,input_dim=6,activation='tanh'))\n",
        "#model.add(Dense(20, activation='tanh'))\n",
        "#model.add(Dense(3,activation='softmax'))\n",
        "#model.compile(loss='categorical_crossentropy',optimizer='adam', metrics=['accuracy'])"
      ]
    },
    {
      "cell_type": "code",
      "execution_count": null,
      "metadata": {
        "id": "VdHMU124O4ib"
      },
      "outputs": [],
      "source": [
        "###### FULL TRAINING DATA EMPLOYED ########\n",
        "\n",
        "#55% accuracy for epochs=10, batch_size=2, verbose=0\n",
        "#model.add(Dense(8,input_dim=6,activation='tanh'))\n",
        "#model.add(Dense(20, activation='tanh'))\n",
        "#model.add(Dense(3,activation='softmax'))\n",
        "#model.compile(loss='categorical_crossentropy',optimizer='adam', metrics=['accuracy'])"
      ]
    },
    {
      "cell_type": "code",
      "execution_count": null,
      "metadata": {
        "id": "SnWGE_Vli4FA"
      },
      "outputs": [],
      "source": [
        "###### FULL TRAINING DATA EMPLOYED ########\n",
        "\n",
        "#65% accuracy for epochs=200, batch_size=5, verbose=0\n",
        "#model.add(Dense(8,input_dim=6,activation='relu'))\n",
        "#model.add(Dense(30, activation='relu'))\n",
        "#model.add(Dense(3,activation='softmax'))\n",
        "#model.compile(loss='categorical_crossentropy',optimizer='adam', metrics=['accuracy'])"
      ]
    },
    {
      "cell_type": "code",
      "execution_count": null,
      "metadata": {
        "id": "1Qm_joZ_rdSW"
      },
      "outputs": [],
      "source": [
        "###### FULL TRAINING DATA EMPLOYED ########\n",
        "\n",
        "#66% accuracy for epochs=200, batch_size=5, verbose=0\n",
        "#model.add(Dense(8,input_dim=6,activation='relu'))\n",
        "#model.add(Dense(20, activation='relu'))\n",
        "#model.add(Dense(3,activation='softmax'))\n",
        "#model.compile(loss='categorical_crossentropy',optimizer='adam', metrics=['accuracy'])"
      ]
    },
    {
      "cell_type": "code",
      "execution_count": null,
      "metadata": {
        "id": "QxL6aA2urdUp"
      },
      "outputs": [],
      "source": [
        "###### FULL TRAINING DATA EMPLOYED ########\n",
        "\n",
        "#66% accuracy for epochs=100, batch_size=2, verbose=0\n",
        "#model.add(Dense(8,input_dim=6,activation='relu'))\n",
        "#model.add(Dense(20,activation='relu'))\n",
        "#model.add(Dense(20,activation='relu'))\n",
        "#model.add(Dense(3,activation='softmax'))\n",
        "#model.compile(loss='categorical_crossentropy',optimizer"
      ]
    },
    {
      "cell_type": "code",
      "execution_count": null,
      "metadata": {
        "id": "DdNdYKUjinSj"
      },
      "outputs": [],
      "source": [
        "###### FULL TRAINING DATA EMPLOYED ########\n",
        "\n",
        "# 67% accuracy for epochs=300, batch_size=5, verbose=0\n",
        "#model.add(Dense(16,input_dim=6,activation='relu'))\n",
        "#model.add(Dense(100,activation='relu'))\n",
        "#model.add(Dense(16,activation='relu'))\n",
        "#model.add(Dense(3,activation='softmax'))"
      ]
    },
    {
      "cell_type": "code",
      "execution_count": null,
      "metadata": {
        "id": "Jx0qEJLs-K9E"
      },
      "outputs": [],
      "source": [
        "###### FULL TRAINING DATA EMPLOYED ########\n",
        "\n",
        "#68% accuracy for epochs=200, batch_size=5, verbose=0\n",
        "#model.add(Dense(8,input_dim=6,activation='relu'))\n",
        "#model.add(Dense(20,activation='relu'))\n",
        "#model.add(Dense(20,activation='relu'))\n",
        "#model.add(Dense(3,activation='softmax'))\n",
        "#model.compile(loss='categorical_crossentropy',optimizer"
      ]
    },
    {
      "cell_type": "code",
      "execution_count": null,
      "metadata": {
        "id": "odZr_cRuPH6J"
      },
      "outputs": [],
      "source": [
        "###### FULL TRAINING DATA EMPLOYED ########\n",
        "\n",
        "#69% accuracy for epochs=300, batch_size=5, verbose=0\n",
        "#model.add(Dense(16,input_dim=6,activation='relu'))\n",
        "#model.add(Dense(16,activation='relu'))\n",
        "#model.add(Dense(16,activation='relu'))\n",
        "#model.add(Dense(3,activation='softmax'))\n",
        "#model.compile(loss='categorical_crossentropy',optimizer"
      ]
    },
    {
      "cell_type": "code",
      "execution_count": null,
      "metadata": {
        "id": "v6H6-VCOh6Qe"
      },
      "outputs": [],
      "source": [
        "###### FULL TRAINING DATA EMPLOYED ########\n",
        "\n",
        "#69% accuracy for epochs=300, batch_size=5, verbose=0\n",
        "#model.add(Dense(8,input_dim=6,activation='relu'))\n",
        "#model.add(Dense(20,activation='relu'))\n",
        "#model.add(Dense(20,activation='relu'))\n",
        "#model.add(Dense(3,activation='softmax'))\n",
        "#model.compile(loss='categorical_crossentropy',optimizer"
      ]
    },
    {
      "cell_type": "code",
      "execution_count": null,
      "metadata": {
        "id": "2xEtst8MlIfF"
      },
      "outputs": [],
      "source": [
        "###### FULL TRAINING DATA EMPLOYED ########\n",
        "\n",
        "#70% accuracy for epochs=300, batch_size=5, verbose=0\n",
        "#model.add(Dense(8,input_dim=6,activation='relu'))\n",
        "#model.add(Dense(40,activation='relu'))\n",
        "#model.add(Dense(40,activation='relu'))\n",
        "#model.add(Dense(3,activation='softmax'))\n",
        "#model.compile(loss='categorical_crossentropy',optimizer"
      ]
    },
    {
      "cell_type": "code",
      "execution_count": null,
      "metadata": {
        "id": "1Xq89mYW-LBT"
      },
      "outputs": [],
      "source": [
        "###### FULL TRAINING DATA EMPLOYED ########\n",
        "\n",
        "#70% accuracy for epochs=300, batch_size=5, verbose=0\n",
        "#model.add(Dense(8,input_dim=6,activation='relu'))\n",
        "#model.add(Dense(16,activation='relu'))\n",
        "#model.add(Dense(16,activation='relu'))\n",
        "#model.add(Dense(3,activation='softmax'))\n",
        "#model.compile(loss='categorical_crossentropy',optimizer"
      ]
    },
    {
      "cell_type": "code",
      "execution_count": null,
      "metadata": {
        "id": "rSzi9VoA-LD5"
      },
      "outputs": [],
      "source": [
        "###### FULL TRAINING DATA EMPLOYED ########\n",
        "\n",
        "#70% accuracy for epochs=300, batch_size=5, verbose=0\n",
        "#model.add(Dense(8,input_dim=6,activation='relu'))\n",
        "#model.add(Dense(16,activation='relu'))\n",
        "#model.add(Dense(26,activation='relu'))\n",
        "#model.add(Dense(3,activation='softmax'))\n",
        "#model.compile(loss='categorical_crossentropy',optimizer"
      ]
    },
    {
      "cell_type": "code",
      "execution_count": null,
      "metadata": {
        "id": "dHvjQeQw-LGe"
      },
      "outputs": [],
      "source": [
        "###### FULL TRAINING DATA EMPLOYED ########\n",
        "\n",
        "#70% accuracy for epochs=300, batch_size=5, verbose=0\n",
        "#model.add(Dense(8,input_dim=6,activation='relu'))\n",
        "#model.add(Dense(26,activation='relu'))\n",
        "#model.add(Dense(26,activation='relu'))\n",
        "#model.add(Dense(3,activation='softmax'))\n",
        "#model.compile(loss='categorical_crossentropy',optimizer"
      ]
    },
    {
      "cell_type": "code",
      "execution_count": null,
      "metadata": {
        "id": "Svs8K-CR-LJY"
      },
      "outputs": [],
      "source": [
        "###### FULL TRAINING DATA EMPLOYED ########\n",
        "\n",
        "#70% accuracy for epochs=300, batch_size=5, verbose=0\n",
        "#model.add(Dense(8,input_dim=6,activation='relu'))\n",
        "#model.add(Dense(16,activation='relu'))\n",
        "#model.add(Dense(16,activation='relu'))\n",
        "#model.add(Dense(16, activation='relu'))\n",
        "#model.add(Dense(3,activation='softmax'))\n",
        "#model.compile(loss='categorical_crossentropy',optimizer"
      ]
    },
    {
      "cell_type": "code",
      "execution_count": null,
      "metadata": {
        "id": "eJQPwgK0jlx1"
      },
      "outputs": [],
      "source": [
        "###### FULL TRAINING DATA EMPLOYED ########\n",
        "\n",
        "#70% accuracy for epochs=300, batch_size=5, verbose=0\n",
        "#model.add(Dense(16,input_dim=6,activation='relu'))\n",
        "#model.add(Dense(100,activation='relu'))\n",
        "#model.add(Dense(100,activation='relu'))\n",
        "#model.add(Dense(64, activation='relu'))\n",
        "#model.add(Dense(3,activation='softmax'))\n",
        "#model.compile(loss='categorical_crossentropy',optimizer"
      ]
    },
    {
      "cell_type": "code",
      "execution_count": null,
      "metadata": {
        "id": "PA2XRcQ4inU4"
      },
      "outputs": [],
      "source": [
        "###### FULL TRAINING DATA EMPLOYED ########\n",
        "\n",
        "# 71% accuracy for epochs=300, batch_size=5, verbose=0\n",
        "#model.add(Dense(16,input_dim=6,activation='relu'))\n",
        "#model.add(Dense(100,activation='relu'))\n",
        "#model.add(Dense(100,activation='relu'))\n",
        "#model.add(Dense(3,activation='softmax'))"
      ]
    },
    {
      "cell_type": "code",
      "execution_count": null,
      "metadata": {
        "id": "gtoPkaBKr5Uk"
      },
      "outputs": [],
      "source": [
        "###### FULL TRAINING DATA EMPLOYED ########\n",
        "\n",
        "# 71% accuracy for epochs=200, batch_size=5, verbose=0\n",
        "#model.add(Dense(16,input_dim=6,activation='relu'))\n",
        "#model.add(Dense(200,activation='relu'))\n",
        "#model.add(Dense(200,activation='relu'))\n",
        "#model.add(Dense(64,activation='relu'))\n",
        "#model.add(Dense(3,activation='softmax'))"
      ]
    },
    {
      "cell_type": "code",
      "execution_count": null,
      "metadata": {
        "id": "MAyeXMxVPHzA"
      },
      "outputs": [],
      "source": [
        "###### FULL TRAINING DATA EMPLOYED ########\n",
        "\n",
        "# 72% accuracy for epochs=1000, batch_size=5, verbose=0\n",
        "#model.add(Dense(8,input_dim=6,activation='relu'))\n",
        "#model.add(Dense(26,activation='relu'))\n",
        "#model.add(Dense(26,activation='relu'))\n",
        "#model.add(Dense(3,activation='softmax'))\n",
        "#model.compile(loss='categorical_crossentropy',optimizer"
      ]
    },
    {
      "cell_type": "code",
      "execution_count": null,
      "metadata": {
        "id": "LYdMQNWswJdS"
      },
      "outputs": [],
      "source": [
        "###### FULL TRAINING DATA EMPLOYED for mild vs severe ########\n",
        "\n",
        "# 77% accuracy for epochs=200, batch_size=5, verbose=0\n",
        "#model.add(Dense(16,input_dim=6,activation='relu'))\n",
        "#model.add(Dense(100,activation='relu'))\n",
        "#model.add(Dense(100,activation='relu'))\n",
        "#model.add(Dense(64,activation='relu'))\n",
        "#model.add(Dense(2,activation='softmax'))\n",
        "#model.compile(loss='categorical_crossentropy',optimizer"
      ]
    },
    {
      "cell_type": "code",
      "execution_count": null,
      "metadata": {
        "id": "zwrSewXWPIA8"
      },
      "outputs": [],
      "source": [
        "###### FULL TRAINING DATA EMPLOYED for mild vs severe ########\n",
        "\n",
        "# 77% accuracy for epochs=400, batch_size=5, verbose=0\n",
        "#model.add(Dense(16,input_dim=6,activation='relu'))\n",
        "#model.add(Dense(100,activation='relu'))\n",
        "#model.add(Dense(100,activation='relu'))\n",
        "#model.add(Dense(64,activation='relu'))\n",
        "#model.add(Dense(2,activation='softmax'))\n",
        "#model.compile(loss='categorical_crossentropy',optimizer"
      ]
    },
    {
      "cell_type": "code",
      "execution_count": null,
      "metadata": {
        "id": "lYb-c_vg5rLu"
      },
      "outputs": [],
      "source": [
        "# for mild vs severe\n",
        "# 77% accuracy for epochs=400, batch_size=5, verbose=0\n",
        "#model.add(Dense(16,input_dim=6,activation='relu'))\n",
        "#model.add(Dense(200,activation='relu'))\n",
        "#model.add(Dense(200,activation='relu'))\n",
        "#model.add(Dense(64,activation='relu'))\n",
        "#model.add(Dense(2,activation='softmax'))"
      ]
    },
    {
      "cell_type": "code",
      "execution_count": null,
      "metadata": {
        "id": "znQ4w_rAinXl"
      },
      "outputs": [],
      "source": [
        "###### FULL TRAINING DATA EMPLOYED for mild vs severe ########\n",
        "\n",
        "# 78% accuracy for epochs=300, batch_size=5, verbose=0\n",
        "#model.add(Dense(16,input_dim=6,activation='relu'))\n",
        "#model.add(Dense(100,activation='relu'))\n",
        "#model.add(Dense(100,activation='relu'))\n",
        "#model.add(Dense(64,activation='relu'))\n",
        "#model.add(Dense(2,activation='softmax'))\n",
        "#model.compile(loss='categorical_crossentropy',optimizer"
      ]
    },
    {
      "cell_type": "code",
      "execution_count": null,
      "metadata": {
        "id": "pAcC_EZJnxpu"
      },
      "outputs": [],
      "source": []
    },
    {
      "cell_type": "code",
      "execution_count": null,
      "metadata": {
        "id": "BxTCbfd7nxvk"
      },
      "outputs": [],
      "source": []
    },
    {
      "cell_type": "code",
      "execution_count": null,
      "metadata": {
        "id": "N4gIIonQnx0A"
      },
      "outputs": [],
      "source": []
    },
    {
      "cell_type": "code",
      "execution_count": null,
      "metadata": {
        "id": "FjbUAUAapxeE"
      },
      "outputs": [],
      "source": [
        "#!pip install praat-parselmouth"
      ]
    },
    {
      "cell_type": "code",
      "execution_count": null,
      "metadata": {
        "id": "sz09GLETpxs-"
      },
      "outputs": [],
      "source": [
        "import parselmouth\n",
        "sound = parselmouth.Sound(audio_path)\n",
        "pitch = call(sound, \"To Pitch\", 0.0, 75, 600)\n",
        "harmonicity = call(sound, \"To Harmonicity (cc)\", 0.01, 75, 0.1, 1.0)\n",
        "hnr = call(harmonicity, \"Get mean\", 0, 0)\n",
        "pointProcess = call(sound, \"To PointProcess (periodic, cc)\", 75, 500)\n",
        "localJitter = call(pointProcess, \"Get jitter (local)\", 0, 0, 0.0001, 0.02, 1.3)\n",
        "localabsoluteJitter = call(pointProcess, \"Get jitter (local, absolute)\", 0, 0, 0.0001, 0.02, 1.3)\n",
        "rapJitter = call(pointProcess, \"Get jitter (rap)\", 0, 0, 0.0001, 0.02, 1.3)\n",
        "ppq5Jitter = call(pointProcess, \"Get jitter (ppq5)\", 0, 0, 0.0001, 0.02, 1.3)\n",
        "ddpJitter = call(pointProcess, \"Get jitter (ddp)\", 0, 0, 0.0001, 0.02, 1.3)\n",
        "localShimmer =  call([sound, pointProcess], \"Get shimmer (local)\", 0, 0, 0.0001, 0.02, 1.3, 1.6)\n",
        "localdbShimmer = call([sound, pointProcess], \"Get shimmer (local_dB)\", 0, 0, 0.0001, 0.02, 1.3, 1.6)\n",
        "apq3Shimmer = call([sound, pointProcess], \"Get shimmer (apq3)\", 0, 0, 0.0001, 0.02, 1.3, 1.6)\n",
        "aqpq5Shimmer = call([sound, pointProcess], \"Get shimmer (apq5)\", 0, 0, 0.0001, 0.02, 1.3, 1.6)\n",
        "apq11Shimmer =  call([sound, pointProcess], \"Get shimmer (apq11)\", 0, 0, 0.0001, 0.02, 1.3, 1.6)\n",
        "ddaShimmer = call([sound, pointProcess], \"Get shimmer (dda)\", 0, 0, 0.0001, 0.02, 1.3, 1.6)"
      ]
    }
  ],
  "metadata": {
    "colab": {
      "provenance": [],
      "authorship_tag": "ABX9TyPWepYEv+e25NB8YRhWLgg1",
      "include_colab_link": true
    },
    "gpuClass": "standard",
    "kernelspec": {
      "display_name": "Python 3",
      "name": "python3"
    },
    "language_info": {
      "name": "python"
    }
  },
  "nbformat": 4,
  "nbformat_minor": 0
}